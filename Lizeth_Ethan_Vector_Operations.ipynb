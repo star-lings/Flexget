{
  "cells": [
    {
      "cell_type": "markdown",
      "metadata": {
        "id": "view-in-github",
        "colab_type": "text"
      },
      "source": [
        "<a href=\"https://colab.research.google.com/github/star-lings/Flexget/blob/master/Lizeth_Ethan_Vector_Operations.ipynb\" target=\"_parent\"><img src=\"https://colab.research.google.com/assets/colab-badge.svg\" alt=\"Open In Colab\"/></a>"
      ]
    },
    {
      "cell_type": "markdown",
      "metadata": {
        "collapsed": false,
        "id": "pFL1GyfuCrSG"
      },
      "source": [
        "# Vector Operations with Python"
      ]
    },
    {
      "cell_type": "markdown",
      "metadata": {
        "collapsed": false,
        "id": "WU0v5l1hCrSJ"
      },
      "source": [
        "In this lab, we look at using computers to approximate the values of definite integrals. Recall that this corresponds to the area under a curve.\n",
        "\n",
        "Remember that a line that starts with \\# is a comment line, not executable code. Also, if multiple lines are enclosed in three quote marks, those lines are also comments.\n",
        "\n",
        "To execute a block of code, click anywhere inside the box, hold down the Shift key and press Enter.  Or, click the play button on the left side.\n",
        "\n",
        "Enter your name in the line below. If you worked in a group, enter your group members' names as well. The \\\\n starts a new line. Then execute the line.\n"
      ]
    },
    {
      "cell_type": "code",
      "execution_count": null,
      "metadata": {
        "id": "QvdGh-jxCrSM",
        "outputId": "17db1d11-5af1-48ae-c5ab-003738a02c23",
        "colab": {
          "base_uri": "https://localhost:8080/"
        }
      },
      "outputs": [
        {
          "output_type": "stream",
          "name": "stdout",
          "text": [
            "\r Vector Operations\n",
            " Our names are ETHAN and Lizeth.\n",
            "\r Our emails are:  Liz2166635@maricopa.edu, eth2149267@maricopa.edu \n"
          ]
        }
      ],
      "source": [
        "print('\\r Vector Operations\\n Our names are ETHAN and Lizeth.')\n",
        "print('\\r Our emails are:  Liz2166635@maricopa.edu, eth2149267@maricopa.edu ')"
      ]
    },
    {
      "cell_type": "markdown",
      "metadata": {
        "collapsed": false,
        "id": "ACqOI4UdCrSM"
      },
      "source": [
        "Now we need to call up the numeric Python library, numpy, and the plotting or graphing library, pyplot. Execute the following line of code.\n"
      ]
    },
    {
      "cell_type": "code",
      "execution_count": null,
      "metadata": {
        "id": "Bsdd7d4cCrSO"
      },
      "outputs": [],
      "source": [
        "# matplotlib sets display of plots, can be \"inline\" or \"notebook\"\n",
        "%matplotlib inline\n",
        "# numpy is a package with numerical functions\n",
        "import numpy as np\n",
        "# matplotlib is a package with plotting capabilities\n",
        "import matplotlib.pyplot as plt"
      ]
    },
    {
      "cell_type": "markdown",
      "metadata": {
        "collapsed": false,
        "id": "XS-JLTRECrSO"
      },
      "source": [
        "## Addition of vectors\n",
        "\n",
        "Vectors are defined as arrays with `u=np.array([u1,u2])` or `u=np.array([u1,u2,u3]).`\n",
        "\n",
        "Arrays are basically lists of numbers.\n",
        "\n",
        "Once defined, the vectors are added using \\+ and will follow vector addition $\\mathbf{u}+\\mathbf{v}=[u_1,u_2]+[v_1,v_2]=[u_1+v_1,u_2+v_2]$.\n",
        "\n",
        "Copy the line below and insert in the input line below Practice 1. Change\n",
        "\n",
        "- u to r,\n",
        "- v to s,\n",
        "- w to t,\n",
        "- the definition of r,\n",
        "- the definition of s.\n",
        "\n"
      ]
    },
    {
      "cell_type": "code",
      "execution_count": null,
      "metadata": {
        "id": "6VyOCF-5CrSQ"
      },
      "outputs": [],
      "source": [
        "# Define the vectors. Change the vector names and values in practice 1.\n",
        "u = np.array([1,5])\n",
        "v = np.array([7,4])\n",
        "# Add the vectors. Change to t = r + s in practice 1.\n",
        "w = u + v\n",
        "# Displays the result. Change to t = and t in practice 1.\n",
        "print(\"w =\",w)"
      ]
    },
    {
      "cell_type": "markdown",
      "metadata": {
        "collapsed": false,
        "id": "qqkT6vFoCrSR"
      },
      "source": [
        "_**Practice 1:**_ Define $\\mathbf{r} = \\begin{bmatrix} 1 & -3 \\end{bmatrix}$ and $\\mathbf{s} = \\begin{bmatrix} -4 & 7 \\end{bmatrix}$. Add the vectors, call the resultant vector $\\mathbf{t}$ and display the result. $\\mathbf{t = r + s}$   \n",
        "_**Solution :**_"
      ]
    },
    {
      "cell_type": "code",
      "execution_count": null,
      "metadata": {
        "id": "Iq9wm8QBCrST",
        "colab": {
          "base_uri": "https://localhost:8080/"
        },
        "outputId": "486c17d8-ec70-4218-b5e3-e2d0bce2abac"
      },
      "outputs": [
        {
          "output_type": "stream",
          "name": "stdout",
          "text": [
            "t = [-3  4]\n"
          ]
        }
      ],
      "source": [
        "# Import numpy package.\n",
        "import numpy as np\n",
        "# Define the vectors.\n",
        "r = np.array([1,-3])\n",
        "s = np.array([-4,7])\n",
        "# Add the vectors.\n",
        "t = r + s\n",
        "# Display the result.\n",
        "print(\"t =\",t)"
      ]
    },
    {
      "cell_type": "markdown",
      "metadata": {
        "collapsed": false,
        "id": "oqflSbGLCrST"
      },
      "source": [
        "### Plotting vectors\n",
        "\n",
        "A vector $\\mathbf{v}=\\left< v_1,v_2\\right>$ starting at $P(x_0,y_0)$ is plotted with `plt.quiver(`$x_0$,$y_0$,$v_1$,$v_2$`).`\n",
        "\n",
        "When plotting multiple vectors, we use arrays for these coordinates. plt.quiver\\(\\[all starting x\\-values\\],\\[all starting y\\-values\\],\\[x\\-components\\],\\[y\\-components\\]\\)\n",
        "\n",
        "Then you set the viewing window of the graph and display it with `plt.show().`  \n",
        "In the cell below, we plot the vectors $\\mathbf{u}$,$\\mathbf{v}$, and $\\mathbf{w}$ from our vector addition above.\n",
        "\n",
        "The command plt.quiver draws an arrow.\n",
        "\n",
        "The command plt.xlim\\(a, b\\) sets the x coordinates on the graph.\n",
        "\n",
        "The command plt.ylim\\(a, b\\) sets the y coordinates on the graph.\n",
        "\n",
        "The command plt.grid\\(visible=True, which='major'\\) will plot the gridlines on the graph.\n",
        "\n",
        "The command plt.show\\(\\) is what actually displays the graph.\n",
        "\n",
        "Copy the input line below and paste in the input line below Practice 2. Change\n",
        "\n",
        "- all u's to r's,\n",
        "- all v's to s's,\n",
        "- all w's to t's,\n",
        "- set x limits to \\[\\-5, 5\\],\n",
        "- set y limits to \\[\\-5, 5\\].\n",
        "\n"
      ]
    },
    {
      "cell_type": "code",
      "execution_count": null,
      "metadata": {
        "id": "Jk4MNFl5CrSW",
        "colab": {
          "base_uri": "https://localhost:8080/",
          "height": 221
        },
        "outputId": "dd09e0c7-ddf3-4743-a528-0509497218fc"
      },
      "outputs": [
        {
          "output_type": "display_data",
          "data": {
            "text/plain": [
              "<Figure size 640x480 with 1 Axes>"
            ],
            "image/png": "[encoded data removed]"
          },
          "metadata": {}
        }
      ],
      "source": [
        "# matplotlib sets display of plots, can be \"inline\" or \"notebook\"\n",
        "%matplotlib inline\n",
        "# numpy is a package with numerical functions\n",
        "import numpy as np\n",
        "# matplotlib is a package with plotting capabilities\n",
        "import matplotlib.pyplot as plt\n",
        "# Plot the vectors u (red), v (blue), and u+v (brown)\n",
        "# In practice 2, replace u with r, v with s, and w with t.\n",
        "\n",
        "# Define the vectors. Change the vector names and values in practice 1.\n",
        "u = np.array([1,5])\n",
        "v = np.array([7,4])\n",
        "# Add the vectors. Change to t = r + s in practice 1.\n",
        "w = u + v\n",
        "\n",
        "plt.quiver([0, u[0], 0], [0, u[1], 0], [u[0],v[0],w[0]], [u[1],v[1],w[1]], color=['r','b','brown'], angles='xy', scale_units='xy', scale=1)\n",
        "\n",
        "# Set the viewing window of the graph. In practice 2, adjust x and y limits to get a good view.\n",
        "plt.xlim(-2, 10)\n",
        "plt.ylim(-2, 10)\n",
        "\n",
        "# Add gridlines to the graph\n",
        "plt.grid(visible=True, which='major')\n",
        "\n",
        "# Display the plot\n",
        "plt.show()"
      ]
    },
    {
      "cell_type": "markdown",
      "metadata": {
        "collapsed": false,
        "id": "fHPgEqatCrSW"
      },
      "source": [
        "_**Practice 2:**_ Create a plot with your vectors $\\mathbf{r}$, $\\mathbf{s}$, and $\\mathbf{t}$ showing that $\\mathbf{r}+\\mathbf{s}=\\mathbf{t}$. Make sure you adjust the viewing window so that all three are visible.  \n",
        "_**Solution :**_  "
      ]
    },
    {
      "cell_type": "code",
      "execution_count": null,
      "metadata": {
        "id": "vJoFNhmACrSX",
        "colab": {
          "base_uri": "https://localhost:8080/",
          "height": 223
        },
        "outputId": "a76dd106-3e0b-49e3-9be7-aa7b2bf8e598"
      },
      "outputs": [
        {
          "output_type": "display_data",
          "data": {
            "text/plain": [
              "<Figure size 640x480 with 1 Axes>"
            ],
            "image/png": "[encoded data removed]"
          },
          "metadata": {}
        }
      ],
      "source": [
        "# matplotlib sets display of plots, can be \"inline\" or \"notebook\"\n",
        "%matplotlib inline\n",
        "# numpy is a package with numerical functions\n",
        "import numpy as np\n",
        "# matplotlib is a package with plotting capabilities\n",
        "import matplotlib.pyplot as plt\n",
        "\n",
        "# Define the vectors.\n",
        "r = np.array([1,-3])\n",
        "s = np.array([-4,7])\n",
        "\n",
        "# Add the vectors.\n",
        "t = r + s\n",
        "\n",
        "# Plot the vectors u (red), v (blue), and u+v (brown)\n",
        "# Names are replaced\n",
        "\n",
        "plt.quiver([0, r[0], 0], [0, r[1], 0], [r[0],s[0],t[0]], [r[1],s[1],t[1]], color=['r','b','brown'], angles='xy', scale_units='xy', scale=1)\n",
        "\n",
        "# Set the viewing window of the graph. In practice 2, adjust x and y limits to get a good view.\n",
        "plt.xlim(-4, 2)\n",
        "plt.ylim(-4, 6)\n",
        "\n",
        "# Add gridlines to the graph\n",
        "plt.grid(visible=True, which='major')\n",
        "\n",
        "# Display the plot\n",
        "plt.show()"
      ]
    },
    {
      "cell_type": "markdown",
      "metadata": {
        "collapsed": false,
        "id": "OpW70D1ACrSY"
      },
      "source": [
        "### Scalar multiplication\n",
        "\n",
        "Vectors addition can be combined with scalar multiplication, which uses an asterisk \\* to indicate multiplication. All multiplication must be explicitly indicated with an \\*.\n",
        "\n",
        "We will name new vectors u2 and v2. Python does NOT interpret that as multiplication because there is no \\*. It is simply a name.\n",
        "\n",
        "Copy the code in the line below and paste into the input line below Practice 3. Change\n",
        "\n",
        "- all u2's to r2's,\n",
        "- all v2's to s2's,\n",
        "- all w2's to t2's,\n",
        "- the definition of u2,\n",
        "- the definition of v2,\n",
        "- the definition of t2.\n",
        "\n"
      ]
    },
    {
      "cell_type": "code",
      "execution_count": null,
      "metadata": {
        "id": "9JoVSL67CrSY"
      },
      "outputs": [],
      "source": [
        "# Define the vectors. In practice 3, redefine u2 as r2 and v2 as s2, with the new values.\n",
        "u2 = np.array([1,5,2])\n",
        "v2 = np.array([7,4,1])\n",
        "\n",
        "# Vector addition with scalar multiplication. Redefine w2 as t2 with the new formula.\n",
        "w2=3*u2 - 2*v2\n",
        "\n",
        "# Display the result. Change to t2 = and t2 in practice 3.\n",
        "print(\"w2 =\", w2)"
      ]
    },
    {
      "cell_type": "markdown",
      "metadata": {
        "collapsed": false,
        "id": "CkniLPIoCrSZ"
      },
      "source": [
        "_**Practice 3:**_ Define $\\mathbf{r2} = \\begin{bmatrix} 1 & -3 & 0 \\end{bmatrix}$ and $\\mathbf{s2} = \\begin{bmatrix} -4 & 7 & 5 \\end{bmatrix}$. Then use vector addition and scalar multiplication to calculate the vector $\\mathbf{t2}=\\frac{1}{2}\\mathbf{s2}+5\\mathbf{r2}$ and display the result  \n",
        "_**Solution :**_\n"
      ]
    },
    {
      "cell_type": "code",
      "execution_count": null,
      "metadata": {
        "id": "WwC7ggVfCrSZ",
        "colab": {
          "base_uri": "https://localhost:8080/"
        },
        "outputId": "6354ba02-ffc3-49ec-c04e-1b43c93faac2"
      },
      "outputs": [
        {
          "output_type": "stream",
          "name": "stdout",
          "text": [
            "t2 = [  3.  -11.5   2.5]\n",
            "t2 = [  3.  -11.5   2.5]\n"
          ]
        }
      ],
      "source": [
        "# Import numpy pkg.\n",
        "import numpy as np\n",
        "\n",
        "# Define the vectors\n",
        "r2 = np.array([1,-3,0])\n",
        "s2 = np.array([-4,7,5])\n",
        "\n",
        "# the operation\n",
        "t2=0.5*s2 + 5*r2\n",
        "\n",
        "# Display the result\n",
        "print(\"t2 =\", t2)\n",
        "print(\"t2 =\", t2)"
      ]
    },
    {
      "cell_type": "markdown",
      "metadata": {
        "collapsed": false,
        "id": "nA0MX05nCrSa"
      },
      "source": [
        "## The Dot Product\n",
        "\n",
        "The dot product or scalar product\n",
        "$\\mathbf{u}\\cdot\\mathbf{v}=[u_1,u_2,u_3]\\cdot[v_1,v_2,v_3]=(u_1)(v_1)+(u_2)(v_2)+(u_3)(v_3)$\n",
        "is calculated with `np.dot(u,v).`\n",
        "\n",
        "The magnitude of a vector u\n",
        "$||\\mathbf{u}||=\\sqrt{(u_1)^2+(u_2)^2+(u_3)^2}$\n",
        "is calculated with `np.linalg.norm(u).`\n",
        "\n",
        "We also call on the inverse cosine function below. Most common functions are called by `np.name(argument)`.\n",
        "\n",
        "Note: Trigonometric functions default to radian measure for angles.\n",
        "\n",
        "Copy the code in the line below and paste into the input line below Practice 4. Change\n",
        "\n",
        "- all u3's to p's,\n",
        "- all v3's to q's,\n",
        "- the definition of p,\n",
        "- the definition of q.\n",
        "\n"
      ]
    },
    {
      "cell_type": "code",
      "execution_count": null,
      "metadata": {
        "id": "adRsqtmHCrSa",
        "colab": {
          "base_uri": "https://localhost:8080/"
        },
        "outputId": "c5d5274a-fb2f-4ccf-b1f9-46fe5ca91f0a"
      },
      "outputs": [
        {
          "output_type": "stream",
          "name": "stdout",
          "text": [
            "u3 dot v3 =  36\n",
            "magnitude of u3 is 3.7416573867739413\n",
            "magnitude of v3 is 13.92838827718412\n",
            "angle between u3 and v3 is 0.808233789010825 radians\n",
            "angle between u3 and v3 is 46.308384970187326 degrees\n"
          ]
        }
      ],
      "source": [
        "# Define the vectors. In practice 4, redefine u3 as p and v3 as q, with the new values.\n",
        "u3 = np.array([1,2,3])\n",
        "v3 = np.array([-7,8,9])\n",
        "\n",
        "# Compute the dot product. In practice 4, redefine u3dotv as pdotq with p,q in ()s.\n",
        "u3dotv3 = np.dot(u3,v3)\n",
        "# Display the result. In practice 4, change u3 dot v to p dot q.\n",
        "print(\"u3 dot v3 = \", u3dotv3)\n",
        "\n",
        "# Calculate the magnitudes of the vectors and display them\n",
        "# In practice 4, change u3 to p and v3 to q in all places.\n",
        "u3_mod = np.linalg.norm(u3)\n",
        "print(\"magnitude of u3 is\", u3_mod)\n",
        "v3_mod = np.linalg.norm(v3)\n",
        "print(\"magnitude of v3 is\", v3_mod)\n",
        "\n",
        "# Calculate the cosine of the angle between the vectors u3 and v3\n",
        "# In practice 4, change u3 to p and v3 to q in all places.\n",
        "cos_angle = u3dotv3 / (u3_mod * v3_mod)\n",
        "\n",
        "# Calculate the angle in radians\n",
        "angle = np.arccos(cos_angle)\n",
        "\n",
        "# Convert to degrees\n",
        "angledegrees = angle * 360 / 2 / np.pi\n",
        "\n",
        "# Display the result\n",
        "print(\"angle between u3 and v3 is\", angle,\"radians\")\n",
        "print(\"angle between u3 and v3 is\", angledegrees,\"degrees\")"
      ]
    },
    {
      "cell_type": "markdown",
      "metadata": {
        "collapsed": false,
        "id": "7W-AxoU0CrSb"
      },
      "source": [
        "_**Practice 4:**_ Calculate the dot product of $\\mathbf{p}=10\\mathbf{i}-4\\mathbf{j}+7\\mathbf{k}$ and $\\mathbf{q}=-2\\mathbf{i}+\\mathbf{j}+6\\mathbf{k}$. Then find u dot v, their magnitudes, and the angle between the two vectors.  \n",
        "_**Solution :**_\n"
      ]
    },
    {
      "cell_type": "code",
      "execution_count": null,
      "metadata": {
        "id": "wJyZg-kTCrSc",
        "colab": {
          "base_uri": "https://localhost:8080/"
        },
        "outputId": "24691177-ea78-455b-e135-58618ccc56ae"
      },
      "outputs": [
        {
          "output_type": "stream",
          "name": "stdout",
          "text": [
            "p dot q =  18\n",
            "magnitude of p is 12.84523257866513\n",
            "magnitude of q is 6.4031242374328485\n",
            "angle in radians between p and q is 1.3501646864326324 radians\n",
            "angle in degrees between p and q is 77.35873818019404 degrees\n"
          ]
        }
      ],
      "source": [
        "# Define the vectors.\n",
        "p = np.array([10,-4,7])\n",
        "q = np.array([-2,1,6])\n",
        "\n",
        "# Compute the dot product\n",
        "pdotq = np.dot(p,q)\n",
        "\n",
        "# Display the result.\n",
        "print(\"p dot q = \", pdotq)\n",
        "\n",
        "# Calculate the magnitudes of the vectors and display them.\n",
        "p_mod = np.linalg.norm(p)\n",
        "print(\"magnitude of p is\", p_mod)\n",
        "q_mod = np.linalg.norm(q)\n",
        "print(\"magnitude of q is\", q_mod)\n",
        "\n",
        "# Calculate the cosine of the angle between the vectors p and q.\n",
        "cos_angle = pdotq / (p_mod * q_mod)\n",
        "\n",
        "# Calculate the angle in radians.\n",
        "angle = np.arccos(cos_angle)\n",
        "\n",
        "# Convert to degrees.\n",
        "angledegrees = angle * 360 / 2 / np.pi\n",
        "\n",
        "# Display the result.\n",
        "print(\"angle in radians between p and q is\", angle,\"radians\")\n",
        "print(\"angle in degrees between p and q is\", angledegrees,\"degrees\")"
      ]
    },
    {
      "cell_type": "markdown",
      "metadata": {
        "collapsed": false,
        "id": "yC7Zt6ZRCrSc"
      },
      "source": [
        "## Vector projection\n",
        "\n",
        "The vector projection of v onto u can be calculated using the usual formula\n",
        "$$ \\text{proj}_{\\mathbf{u}}\\mathbf{v}=\\frac{\\mathbf{u}\\cdot\\mathbf{v}}{||\\mathbf{u}||^2}\\mathbf{u}$$\n",
        "\n",
        "Note: exponents are calculated with \\*\\*.\n",
        "\n",
        "Let $\\mathbf{a}=\\begin{bmatrix} 7 & 9 \\end{bmatrix}$ and $\\mathbf{b}=\\begin{bmatrix} 1 & 5 \\end{bmatrix}$. We will find the projection of b onto a, $\\text{proj}_{\\mathbf{a}}\\mathbf{b}.$\n",
        "\n",
        "Copy the code in the line below and paste into the input line below Practice 5. Change\n",
        "\n",
        "- all a's to m's,\n",
        "- all b's to n's,\n",
        "- all proj to proj2,\n",
        "- all diff to diff2\n",
        "- the definition of m,\n",
        "- the definition of n\n",
        "- the xlim and y lim values to see all of the vectors.\n",
        "\n"
      ]
    },
    {
      "cell_type": "code",
      "execution_count": null,
      "metadata": {
        "id": "A851FJRhCrSd",
        "colab": {
          "base_uri": "https://localhost:8080/",
          "height": 319
        },
        "outputId": "4d4bad8a-0ed1-4a63-c80a-4cb618277b4e"
      },
      "outputs": [
        {
          "output_type": "stream",
          "name": "stdout",
          "text": [
            "projection of b on a is  [2.8 3.6] . diff = b - proj =  [-1.8  1.4]\n"
          ]
        },
        {
          "output_type": "display_data",
          "data": {
            "text/plain": [
              "<Figure size 640x480 with 1 Axes>"
            ],
            "image/png": "[encoded data removed]"
          },
          "metadata": {}
        }
      ],
      "source": [
        "# Define the vectors. In practice 5, redefine a as m and b as n, with the new values. Change all a to m, b to n, proj to proj2, diff to diff2.\n",
        "a = np.array([7,9])\n",
        "b = np.array([1,5])\n",
        "\n",
        "# Calculate the magnitude of of a and b. Change name in Practice 5 to m_mod.\n",
        "a_mod = np.linalg.norm(a)\n",
        "# Calculate the projection of b onto a\n",
        "proj = (np.dot(a,b)/a_mod**2)*a\n",
        "# Calculate diff\n",
        "diff = b - proj\n",
        "# Display the result\n",
        "print(\"projection of b on a is \",proj,\". diff = b - proj = \",diff)\n",
        "\n",
        "\n",
        "# Plot the vectors a (red), b (blue), and the projection of b onto a (cyan)\n",
        "# In practice 5, change all a to m, b to n, proj to proj2, diff to diff2.\n",
        "plt.quiver([0, 0, 0, proj[0]], [0, 0, 0, proj[1]], [a[0],b[0],proj[0],diff[0]], [a[1],b[1],proj[1],diff[1]], color=['r','b','cyan','m'], angles='xy', scale_units='xy', scale=1)\n",
        "\n",
        "# Make the plot a square graph\n",
        "plt.axis('square')\n",
        "\n",
        "# Set the viewing window of the graph\n",
        "plt.xlim(-2, 10)\n",
        "plt.ylim(-2, 10)\n",
        "\n",
        "# Add gridlines to the graph\n",
        "plt.grid(visible=True, which='major')\n",
        "\n",
        "# Display the plot\n",
        "plt.show()"
      ]
    },
    {
      "cell_type": "markdown",
      "metadata": {
        "collapsed": false,
        "id": "fsAcUx0TCrSf"
      },
      "source": [
        "_**Practice 5:**_ Define $\\mathbf{m}=\\begin{bmatrix} 8 & -3 \\end{bmatrix}$ and $\\mathbf{n}=\\begin{bmatrix} 2 & -2 \\end{bmatrix}$. Then calculate $\\text{proj}_{\\mathbf{m}}\\mathbf{n}$ and create a plot that shows all three vectors.  \n",
        "_**Solution :**_\n",
        "\n"
      ]
    },
    {
      "cell_type": "code",
      "execution_count": null,
      "metadata": {
        "id": "WU0zuqVYCrSf",
        "colab": {
          "base_uri": "https://localhost:8080/",
          "height": 280
        },
        "outputId": "990fe2b8-5e55-4648-c1c3-3830ee7c8325"
      },
      "outputs": [
        {
          "output_type": "stream",
          "name": "stdout",
          "text": [
            "projection of n on m is  [ 2.4109589  -0.90410959] . diff2 = n - proj2 =  [-0.4109589  -1.09589041]\n"
          ]
        },
        {
          "output_type": "display_data",
          "data": {
            "text/plain": [
              "<Figure size 640x480 with 1 Axes>"
            ],
            "image/png": "[encoded data removed]"
          },
          "metadata": {}
        }
      ],
      "source": [
        "# Define the vectors.\n",
        "m = np.array([8,-3])\n",
        "n = np.array([2,-2])\n",
        "\n",
        "# Calculate the magnitude of of m and n.\n",
        "m_mod = np.linalg.norm(m)\n",
        "\n",
        "# Calculate the projection of n onto m.\n",
        "proj2 = (np.dot(m,n)/m_mod**2)*m\n",
        "\n",
        "# Calculate diff2.\n",
        "diff2 = n - proj2\n",
        "\n",
        "# Display the result\n",
        "print(\"projection of n on m is \",proj2,\". diff2 = n - proj2 = \",diff2)\n",
        "\n",
        "\n",
        "# Plot the vectors m (red), n (blue), and the projection of n onto m (cyan).\n",
        "plt.quiver([0, 0, 0, proj2[0]], [0, 0, 0, proj2[1]], [m[0],n[0],proj[0],diff2[0]], [m[1],n[1],proj2[1],diff2[1]], color=['r','b','cyan','m'], angles='xy', scale_units='xy', scale=1)\n",
        "\n",
        "# Make the plot a square graph.\n",
        "plt.axis('square')\n",
        "\n",
        "# Set the viewing window of the graph.\n",
        "plt.xlim(-2, 10)\n",
        "plt.ylim(-6, 4)\n",
        "\n",
        "# Add gridlines to the graph.\n",
        "plt.grid(visible=True, which='major')\n",
        "\n",
        "# Display the plot.\n",
        "plt.show()"
      ]
    },
    {
      "cell_type": "markdown",
      "metadata": {
        "collapsed": false,
        "id": "AkIAL8Z2CrSf"
      },
      "source": [
        "## The Cross Product\n",
        "\n",
        "The cross product or vector product $\\mathbf{u}\\times\\mathbf{v}=[u_1,u_2,u_3]\\times[v_1,v_2,v_3]=\n",
        "\\begin{equation}\n",
        "   \\begin{vmatrix}\n",
        "   \\mathbf{i} & \\mathbf{j} & \\mathbf{k} \\\\\n",
        "   u_{1} & u_{2} & u_{3}  \\\\\n",
        "   v_{1} & v_{2} & v_{3}  \\\\\n",
        "   \\end{vmatrix}\n",
        "\\end{equation}$ is calculated with `np.cross(u,v).`\n",
        "\n",
        "We can then find the angle between the vectors using the magnitude formula $||\\mathbf{u}\\times\\mathbf{v}||=||\\mathbf{u}||||\\mathbf{v}||\\sin{\\theta}$.\n",
        "\n",
        "Let $\\mathbf{c}=\\begin{bmatrix} 1 & 2  & 3 \\end{bmatrix}$ and $\\mathbf{d}=\\begin{bmatrix} -1 & 2  & -1 \\end{bmatrix}.$ We will compute the cross product c x d.\n",
        "\n",
        "Copy the code in the line below and paste into the input line below Practice 6. Change\n",
        "\n",
        "- all c's to c2's,\n",
        "- all d's to d2's,\n",
        "- all crossp to crossp2,\n",
        "- all c\\_mod to c2\\_mod,\n",
        "- all d\\_mod to d2\\_mod,\n",
        "- all crossp\\_mod to crossp2\\_mod,\n",
        "- the definition of c2,\n",
        "- the definition of d2.\n",
        "\n"
      ]
    },
    {
      "cell_type": "code",
      "execution_count": null,
      "metadata": {
        "id": "uUfsXruzCrSg"
      },
      "outputs": [],
      "source": [
        "# Define the vectors c and d. In practice 6, redefine c as c2, d as d2, with the new values, and change crossp to crossp2.\n",
        "c = np.array([1,2,3])\n",
        "d = np.array([-1,2,-1])\n",
        "# Calculate the cross product u x v\n",
        "crossp = np.cross(c,d)\n",
        "# Display the result\n",
        "print(\"the cross product of c and d =\",crossp)\n",
        "\n",
        "# Computes the magnitudes of c, d, and c x d and displays them. Change names in Practice 6 to c2_mod, d2_mod, crossp2_mod.\n",
        "c_mod = np.linalg.norm(c)\n",
        "print(\"magnitude of c is\",c_mod)\n",
        "d_mod = np.linalg.norm(d)\n",
        "print(\"magnitude of d is\",d_mod)\n",
        "crossp_mod = np.linalg.norm(crossp)\n",
        "print(\"magnitude of c x d is\",crossp_mod)\n",
        "\n",
        "# Calculates the sine of the angle between c and d. Change the names appropriately.\n",
        "sin_angle = crossp_mod / (c_mod * d_mod)\n",
        "\n",
        "# Calculate the radian measure of the angle\n",
        "angle = np.arcsin(sin_angle)\n",
        "# Converts to degrees\n",
        "angledegrees = angle * 360 / 2 / np.pi\n",
        "\n",
        "# Displays the results\n",
        "print(\"the angle in radians between c and d is\",angle,\"radians\")\n",
        "print(\"the angle in degrees between c and d is\",angledegrees,\"degrees\")"
      ]
    },
    {
      "cell_type": "markdown",
      "metadata": {
        "collapsed": false,
        "id": "ev8QxcWrCrSh"
      },
      "source": [
        "_**Practice 6:**_ Use the same vectors as in Practice 4, $\\mathbf{c2}=10\\mathbf{i}-4\\mathbf{j}+7\\mathbf{k}$ and $\\mathbf{d2}=-2\\mathbf{i}+\\mathbf{j}+6\\mathbf{k}$, to calculate the cross product, $\\mathbf{c2}\\times\\mathbf{d2}$, . Then verify you get the same angle between the two vectors using the cross product formula, $||\\mathbf{p}\\times\\mathbf{q}||=||\\mathbf{p}||||\\mathbf{q}||\\sin{\\theta}$.  \n",
        "_**Solution :**_\n"
      ]
    },
    {
      "cell_type": "code",
      "execution_count": null,
      "metadata": {
        "id": "4xh4mjzhCrSh",
        "colab": {
          "base_uri": "https://localhost:8080/"
        },
        "outputId": "0386d4ed-35e5-414a-961c-d96a6db0c319"
      },
      "outputs": [
        {
          "output_type": "stream",
          "name": "stdout",
          "text": [
            "the cross product of c2 and d2 = [-31 -74   2]\n",
            "magnitude of c2 is 12.84523257866513\n",
            "magnitude of d2 is 6.4031242374328485\n",
            "magnitude of c2 x d2 is 80.25584090893322\n",
            "the angle in radians between c2 and d2 is 1.3501646864326318 radians\n",
            "the angle in degrees between c2 and d2 is 77.35873818019401 degrees\n"
          ]
        }
      ],
      "source": [
        "# Define the vectors c2 and d2.\n",
        "c2 = np.array([10,-4,7])\n",
        "d2 = np.array([-2,1,6])\n",
        "\n",
        "# Calculate the cross product c2 x d2.\n",
        "crossp2 = np.cross(c2,d2)\n",
        "\n",
        "# Display the result.\n",
        "print(\"the cross product of c2 and d2 =\",crossp2)\n",
        "\n",
        "# Compute the magnitudes of c2, d2, and c2 x d2 and display them.\n",
        "c2_mod = np.linalg.norm(c2)\n",
        "print(\"magnitude of c2 is\",c2_mod)\n",
        "d2_mod = np.linalg.norm(d2)\n",
        "print(\"magnitude of d2 is\",d2_mod)\n",
        "crossp2_mod = np.linalg.norm(crossp2)\n",
        "print(\"magnitude of c2 x d2 is\",crossp2_mod)\n",
        "\n",
        "# Calculate the sine of the angle between c2 and d2.\n",
        "sin_angle = crossp2_mod / (c2_mod * d2_mod)\n",
        "\n",
        "# Calculate the radian measure of the angle.\n",
        "angle = np.arcsin(sin_angle)\n",
        "\n",
        "# Convert to degrees.\n",
        "angledegrees = angle * 360 / 2 / np.pi\n",
        "\n",
        "# Display the results.\n",
        "print(\"the angle in radians between c2 and d2 is\",angle,\"radians\")\n",
        "print(\"the angle in degrees between c2 and d2 is\",angledegrees,\"degrees\")"
      ]
    },
    {
      "cell_type": "markdown",
      "metadata": {
        "collapsed": false,
        "id": "Q6qh6TZJCrSh"
      },
      "source": [
        "## Print out your file and save as a pdf\n",
        "\n",
        "Click on \"File\" above.\n",
        "\n",
        "Scroll down and hover over \"Save and Export as HTML\".\n",
        "\n",
        "Click on \"HTML via Classic nbconvert \\(.html\\)\".\n",
        "\n",
        "When the file is ready, the name will appear as an active link. Click on it to open it in another browser window.\n",
        "\n",
        "Hold down the Control key and click p, CTRL \\+ p.\n",
        "\n",
        "When the print screen opens, select to save as a pdf file.\n",
        "\n",
        "Save to your computer.\n",
        "\n"
      ]
    },
    {
      "cell_type": "code",
      "execution_count": null,
      "metadata": {
        "id": "IBC3pE_xCrSi",
        "colab": {
          "base_uri": "https://localhost:8080/"
        },
        "outputId": "a8c3e727-4494-4087-c103-08fcfb9580b3"
      },
      "outputs": [
        {
          "output_type": "stream",
          "name": "stdout",
          "text": [
            "Goodbye, World.\n"
          ]
        }
      ],
      "source": [
        "print(\"Goodbye, World.\")"
      ]
    }
  ],
  "metadata": {
    "kernelspec": {
      "argv": [
        "/usr/bin/python3",
        "-m",
        "ipykernel",
        "--HistoryManager.enabled=False",
        "--matplotlib=inline",
        "-c",
        "%config InlineBackend.figure_formats = set(['retina'])\nimport matplotlib; matplotlib.rcParams['figure.figsize'] = (12, 7)",
        "-f",
        "{connection_file}"
      ],
      "display_name": "Python 3 (system-wide)",
      "env": {},
      "language": "python",
      "metadata": {
        "cocalc": {
          "description": "Python 3 programming language",
          "priority": 100,
          "url": "https://www.python.org/"
        }
      },
      "name": "python3",
      "resource_dir": "/ext/jupyter/kernels/python3"
    },
    "language_info": {
      "codemirror_mode": {
        "name": "ipython",
        "version": 3
      },
      "file_extension": ".py",
      "mimetype": "text/x-python",
      "name": "python",
      "nbconvert_exporter": "python",
      "pygments_lexer": "ipython3",
      "version": "3.8.10"
    },
    "colab": {
      "provenance": [],
      "include_colab_link": true
    }
  },
  "nbformat": 4,
  "nbformat_minor": 0
}